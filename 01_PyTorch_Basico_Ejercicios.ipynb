{
  "nbformat": 4,
  "nbformat_minor": 0,
  "metadata": {
    "kernelspec": {
      "display_name": "Python 3",
      "language": "python",
      "name": "python3"
    },
    "language_info": {
      "codemirror_mode": {
        "name": "ipython",
        "version": 3
      },
      "file_extension": ".py",
      "mimetype": "text/x-python",
      "name": "python",
      "nbconvert_exporter": "python",
      "pygments_lexer": "ipython3",
      "version": "3.7.3"
    },
    "colab": {
      "name": "01-PyTorch_Basico_Ejercicios.ipynb",
      "provenance": [],
      "collapsed_sections": [],
      "include_colab_link": true
    }
  },
  "cells": [
    {
      "cell_type": "markdown",
      "metadata": {
        "id": "view-in-github",
        "colab_type": "text"
      },
      "source": [
        "<a href=\"https://colab.research.google.com/github/hosamfa3096/repositorio_IA3/blob/main/01_PyTorch_Basico_Ejercicios.ipynb\" target=\"_parent\"><img src=\"https://colab.research.google.com/assets/colab-badge.svg\" alt=\"Open In Colab\"/></a>"
      ]
    },
    {
      "cell_type": "markdown",
      "metadata": {
        "id": "AVBv0eq8108q"
      },
      "source": [
        "![IDAL](https://i.imgur.com/tIKXIG1.jpg)  \n",
        "\n",
        "#**Máster en Inteligencia Artificial Avanzada y Aplicada:  IA^3**\n",
        "---\n"
      ]
    },
    {
      "cell_type": "markdown",
      "metadata": {
        "collapsed": true,
        "id": "VEvbppY2MddM"
      },
      "source": [
        "# PyTorch Basico Ejercicios \n",
        "\n",
        "En estos ejercicos crearemos algunos tensores y realizaremos operaciones básicos sobre ellos.\n"
      ]
    },
    {
      "cell_type": "markdown",
      "metadata": {
        "id": "a-WqWFLrFX0N"
      },
      "source": [
        "### 1. Realiza las importaciones standard\n",
        "Importa torch and NumPy"
      ]
    },
    {
      "cell_type": "code",
      "metadata": {
        "id": "7-iBtl_qFX0O"
      },
      "source": [
        "import torch\n",
        "import numpy as np"
      ],
      "execution_count": 4,
      "outputs": []
    },
    {
      "cell_type": "markdown",
      "metadata": {
        "id": "-WEIgHwpFX0P"
      },
      "source": [
        "### 2. Configura una semilla para los generadores de ambos Numpy y Pytorch con el valor \"42\"\n",
        "Esto permite reproducir los mismos resultados \"aleatorios\""
      ]
    },
    {
      "cell_type": "code",
      "metadata": {
        "id": "t3FGQjvFFX0P"
      },
      "source": [
        "torch.manual_seed(42)\n",
        "np.random.seed(42)"
      ],
      "execution_count": 5,
      "outputs": []
    },
    {
      "cell_type": "markdown",
      "metadata": {
        "id": "m7-jK-a9FX0Q"
      },
      "source": [
        "### 3. Crea un NumPy array llamado \"arr\" que contenga 6 enteros aleatorios entre 0 (incluido) y 5 (excluido)"
      ]
    },
    {
      "cell_type": "code",
      "metadata": {
        "id": "Xp5Yr_jyFX0Q",
        "colab": {
          "base_uri": "https://localhost:8080/"
        },
        "outputId": "338fd56c-e8b5-440b-e3e8-9dfa5a9adef6"
      },
      "source": [
        "arr=np.random.randint(0,5,6)\n",
        "print(arr)"
      ],
      "execution_count": 7,
      "outputs": [
        {
          "output_type": "stream",
          "name": "stdout",
          "text": [
            "[3 4 2 4 4 1]\n"
          ]
        }
      ]
    },
    {
      "cell_type": "code",
      "metadata": {
        "colab": {
          "base_uri": "https://localhost:8080/"
        },
        "id": "2wCuVmuVFX0R",
        "outputId": "0769aa05-8d5b-4990-a981-77bd1bcf1a4c"
      },
      "source": [
        "# No escribas aquí. Compara tu resultado con lo que se muestra:"
      ],
      "execution_count": null,
      "outputs": [
        {
          "output_type": "stream",
          "text": [
            "[3 4 2 4 4 1]\n"
          ],
          "name": "stdout"
        }
      ]
    },
    {
      "cell_type": "markdown",
      "metadata": {
        "id": "VNKMiwSBFX0T"
      },
      "source": [
        "### 4. Crea a tensor \"x\" del array anterior "
      ]
    },
    {
      "cell_type": "code",
      "metadata": {
        "id": "ecB12BtPFX0T",
        "colab": {
          "base_uri": "https://localhost:8080/"
        },
        "outputId": "f002643b-0a82-4c6b-b6b2-c00acbaa77ff"
      },
      "source": [
        "x=torch.from_numpy(arr)\n",
        "print(x\n",
        "      )"
      ],
      "execution_count": 8,
      "outputs": [
        {
          "output_type": "stream",
          "name": "stdout",
          "text": [
            "tensor([3, 4, 2, 4, 4, 1])\n"
          ]
        }
      ]
    },
    {
      "cell_type": "code",
      "metadata": {
        "colab": {
          "base_uri": "https://localhost:8080/"
        },
        "id": "gF-3xtRPFX0U",
        "outputId": "effa235d-c341-4cc3-876c-04bdffce48e2"
      },
      "source": [
        "# No escribas aquí. Compara tu resultado con lo que se muestra:"
      ],
      "execution_count": null,
      "outputs": [
        {
          "output_type": "stream",
          "text": [
            "tensor([3, 4, 2, 4, 4, 1])\n"
          ],
          "name": "stdout"
        }
      ]
    },
    {
      "cell_type": "markdown",
      "metadata": {
        "id": "ZeLzZWH8FX0U"
      },
      "source": [
        "### 5. Cambia el tipo de dato (`dtype`) de x de 'int32' a 'int64'\n",
        "Nota: 'int64' tambien se puede llamar 'LongTensor'"
      ]
    },
    {
      "cell_type": "code",
      "metadata": {
        "id": "H0hrptRGFX0V",
        "colab": {
          "base_uri": "https://localhost:8080/"
        },
        "outputId": "51f98fe6-b617-4e0c-a549-b57f120b5478"
      },
      "source": [
        "print(x.type())\n",
        "x=x.type(torch.int32)\n",
        "print(x.type())"
      ],
      "execution_count": 9,
      "outputs": [
        {
          "output_type": "stream",
          "name": "stdout",
          "text": [
            "torch.LongTensor\n",
            "torch.IntTensor\n"
          ]
        }
      ]
    },
    {
      "cell_type": "code",
      "metadata": {
        "colab": {
          "base_uri": "https://localhost:8080/"
        },
        "id": "SOGD2bfOFX0V",
        "outputId": "a0d4cdd5-366e-480f-e8e7-6e7e0779f585"
      },
      "source": [
        "# No escribas aquí. Compara tu resultado con lo que se muestra:"
      ],
      "execution_count": null,
      "outputs": [
        {
          "output_type": "stream",
          "text": [
            "torch.LongTensor\n"
          ],
          "name": "stdout"
        }
      ]
    },
    {
      "cell_type": "markdown",
      "metadata": {
        "id": "vRIev8pKFX0W"
      },
      "source": [
        "### 6. Cambia la forma del tensor a un 3x2 tensor\n",
        "Hay varias formas de hacer esto"
      ]
    },
    {
      "cell_type": "code",
      "metadata": {
        "id": "l4bMCN17FX0W",
        "colab": {
          "base_uri": "https://localhost:8080/"
        },
        "outputId": "6da2ccad-aa35-4577-cd30-5c3ddfad440d"
      },
      "source": [
        "x.resize_(3,2)\n",
        "print(x)"
      ],
      "execution_count": 10,
      "outputs": [
        {
          "output_type": "stream",
          "name": "stdout",
          "text": [
            "tensor([[3, 4],\n",
            "        [2, 4],\n",
            "        [4, 1]], dtype=torch.int32)\n"
          ]
        }
      ]
    },
    {
      "cell_type": "code",
      "metadata": {
        "colab": {
          "base_uri": "https://localhost:8080/"
        },
        "id": "liSfn9nXFX0X",
        "outputId": "1c578862-f555-4f23-8dba-4193ae02bfea"
      },
      "source": [
        "# No escribas aquí. Compara tu resultado con lo que se muestra:"
      ],
      "execution_count": null,
      "outputs": [
        {
          "output_type": "stream",
          "text": [
            "tensor([[3, 4],\n",
            "        [2, 4],\n",
            "        [4, 1]])\n"
          ],
          "name": "stdout"
        }
      ]
    },
    {
      "cell_type": "markdown",
      "metadata": {
        "id": "-crPCW01FX0X"
      },
      "source": [
        "### 7. Retorna la columna de la derecha del tensor x\n",
        "\n",
        "Atención a la forma de hacerlo. Hay varias posibilidades y cada una entrega los datos de forma diferente"
      ]
    },
    {
      "cell_type": "code",
      "metadata": {
        "id": "_Bd2N5_uLTdd",
        "colab": {
          "base_uri": "https://localhost:8080/"
        },
        "outputId": "1e1a9ff3-3905-41d0-95da-8c7804684b5d"
      },
      "source": [
        "print(x[:,1:])"
      ],
      "execution_count": 11,
      "outputs": [
        {
          "output_type": "stream",
          "name": "stdout",
          "text": [
            "tensor([[4],\n",
            "        [4],\n",
            "        [1]], dtype=torch.int32)\n"
          ]
        }
      ]
    },
    {
      "cell_type": "code",
      "metadata": {
        "colab": {
          "base_uri": "https://localhost:8080/"
        },
        "id": "psHUi5tFFX0Y",
        "outputId": "f864cce7-fda2-4aca-9c4c-d2018371b597"
      },
      "source": [
        "# No escribas aquí. Compara tu resultado con lo que se muestra:"
      ],
      "execution_count": null,
      "outputs": [
        {
          "output_type": "stream",
          "text": [
            "tensor([[4],\n",
            "        [4],\n",
            "        [1]])\n"
          ],
          "name": "stdout"
        }
      ]
    },
    {
      "cell_type": "code",
      "metadata": {
        "id": "i_qBV5xFNo03",
        "colab": {
          "base_uri": "https://localhost:8080/"
        },
        "outputId": "c18f12cf-b51a-444a-dd5f-4527a7800d2f"
      },
      "source": [
        "print(x[:,1])"
      ],
      "execution_count": 13,
      "outputs": [
        {
          "output_type": "stream",
          "name": "stdout",
          "text": [
            "tensor([4, 4, 1], dtype=torch.int32)\n"
          ]
        }
      ]
    },
    {
      "cell_type": "code",
      "metadata": {
        "colab": {
          "base_uri": "https://localhost:8080/"
        },
        "id": "lL2nx3aUKP_X",
        "outputId": "e7f5fa40-348c-4efc-d861-2a208b1c652c"
      },
      "source": [
        "# No escribas aquí. Compara tu resultado con lo que se muestra:"
      ],
      "execution_count": null,
      "outputs": [
        {
          "output_type": "stream",
          "text": [
            "tensor([4, 4, 1])\n"
          ],
          "name": "stdout"
        }
      ]
    },
    {
      "cell_type": "markdown",
      "metadata": {
        "id": "seXrwOn0FX0Y"
      },
      "source": [
        "### 8. Sin cambiar x, retorna un tensor con los valores cuadradaticos de x\n",
        "Hay varias formas de hacer esto"
      ]
    },
    {
      "cell_type": "code",
      "metadata": {
        "id": "imgbmhh1LUPK",
        "colab": {
          "base_uri": "https://localhost:8080/"
        },
        "outputId": "8e495423-8ebe-41a1-88fa-0748e5bfaa79"
      },
      "source": [
        "print(x*x)\n",
        "print(x**2)\n",
        "print(x.mul(x))\n",
        "print(x.pow(2))\n",
        "print(torch.mul(x,x))"
      ],
      "execution_count": 14,
      "outputs": [
        {
          "output_type": "stream",
          "name": "stdout",
          "text": [
            "tensor([[ 9, 16],\n",
            "        [ 4, 16],\n",
            "        [16,  1]], dtype=torch.int32)\n",
            "tensor([[ 9, 16],\n",
            "        [ 4, 16],\n",
            "        [16,  1]], dtype=torch.int32)\n",
            "tensor([[ 9, 16],\n",
            "        [ 4, 16],\n",
            "        [16,  1]], dtype=torch.int32)\n",
            "tensor([[ 9, 16],\n",
            "        [ 4, 16],\n",
            "        [16,  1]], dtype=torch.int32)\n",
            "tensor([[ 9, 16],\n",
            "        [ 4, 16],\n",
            "        [16,  1]], dtype=torch.int32)\n"
          ]
        }
      ]
    },
    {
      "cell_type": "code",
      "metadata": {
        "id": "IHqa4hm-FX0c",
        "outputId": "b7b9ba98-dae2-4ab5-e436-ca0adaf5602f"
      },
      "source": [
        "# No escribas aquí. Compara tu resultado con lo que se muestra:"
      ],
      "execution_count": null,
      "outputs": [
        {
          "output_type": "stream",
          "text": [
            "tensor([[ 9, 16],\n",
            "        [ 4, 16],\n",
            "        [16,  1]])\n"
          ],
          "name": "stdout"
        }
      ]
    },
    {
      "cell_type": "markdown",
      "metadata": {
        "id": "j0mS61beFX0d"
      },
      "source": [
        "### 9. Crea un tensor \"y\" con el mismo número de elementos que x, de forma que pueda realizar una multiplicación de matrices.\n",
        "\n",
        "Utiliza funciones de Pytorch directamente para crear un tensor de enteros aleatorios entre 0 (incluido) y 5 (excluido). \n",
        "\n",
        "Ten en cuenta qué forma debe tener para hacer la multiplicación de matrices..."
      ]
    },
    {
      "cell_type": "code",
      "metadata": {
        "id": "TTGQAF9aFX0d",
        "colab": {
          "base_uri": "https://localhost:8080/"
        },
        "outputId": "5589a550-5913-40a3-bd79-c87cb510620e"
      },
      "source": [
        "arr2=np.random.randint(0,5,6)\n",
        "y=torch.from_numpy(arr2)\n",
        "y.resize_(2,3)\n"
      ],
      "execution_count": 15,
      "outputs": [
        {
          "output_type": "execute_result",
          "data": {
            "text/plain": [
              "tensor([[2, 2, 2],\n",
              "        [4, 3, 2]])"
            ]
          },
          "metadata": {},
          "execution_count": 15
        }
      ]
    },
    {
      "cell_type": "code",
      "metadata": {
        "id": "VV3yGlzpFX0d",
        "outputId": "59fcb726-f93c-417c-87c1-cdf1d4abfa7e"
      },
      "source": [
        "# No escribas aquí. Compara tu resultado con lo que se muestra:"
      ],
      "execution_count": null,
      "outputs": [
        {
          "output_type": "stream",
          "text": [
            "tensor([[2, 2, 1],\n",
            "        [4, 1, 0]])\n"
          ],
          "name": "stdout"
        }
      ]
    },
    {
      "cell_type": "markdown",
      "metadata": {
        "id": "eERlJ1WiFX0e"
      },
      "source": [
        "### 10. Realiza el producto de matrices entre x e y"
      ]
    },
    {
      "cell_type": "code",
      "metadata": {
        "id": "ltMQrGtSFX0e",
        "colab": {
          "base_uri": "https://localhost:8080/"
        },
        "outputId": "2622d27f-34c5-4b5c-c9a2-b680e4bae8c8"
      },
      "source": [
        "x=x.type(torch.int64)\n",
        "print(x.mm(y))"
      ],
      "execution_count": 17,
      "outputs": [
        {
          "output_type": "stream",
          "name": "stdout",
          "text": [
            "tensor([[22, 18, 14],\n",
            "        [20, 16, 12],\n",
            "        [12, 11, 10]])\n"
          ]
        }
      ]
    },
    {
      "cell_type": "code",
      "metadata": {
        "id": "hBGN5ITuFX0f"
      },
      "source": [
        "# No escribas aquí. Compara tu resultado con lo que se muestra:"
      ],
      "execution_count": 18,
      "outputs": []
    },
    {
      "cell_type": "markdown",
      "metadata": {
        "id": "dqMUG9NWFX0f"
      },
      "source": [
        "## Enhorabuena! Vamos calentando motores..."
      ]
    },
    {
      "cell_type": "markdown",
      "metadata": {
        "id": "n2QOf-HEltUP"
      },
      "source": [
        "## Fin del Notebook"
      ]
    },
    {
      "cell_type": "markdown",
      "metadata": {
        "id": "BZDr1zYmBkRV"
      },
      "source": [
        "Referencias y modelos empleados para el Notebook: \n",
        "\n",
        "*   Documentación de [Pytorch](https://pytorch.org/docs/stable/index.html) \n",
        "*   [PyTorch Tutorial for Deep Learning Researchers](https://github.com/yunjey/pytorch-tutorial) by Yunjey Choi\n",
        "*   [FastAI](https://www.fast.ai/) development notebooks by Jeremy Howard.\n",
        "*   Documentación y cursos en [Pierian Data](https://www.pieriandata.com/)\n"
      ]
    }
  ]
}